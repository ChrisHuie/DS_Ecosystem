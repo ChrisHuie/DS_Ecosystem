{
 "cells": [
  {
   "cell_type": "markdown",
   "metadata": {},
   "source": [
    "# Data Science Explained"
   ]
  },
  {
   "cell_type": "markdown",
   "metadata": {},
   "source": [
    "### 4 Pillars of Data Science"
   ]
  },
  {
   "cell_type": "markdown",
   "metadata": {},
   "source": [
    "1. Business domain\n",
    "2. Statistics and probability\n",
    "3. Computer science and software engineering\n",
    "4. Written and verbal communication"
   ]
  },
  {
   "cell_type": "markdown",
   "metadata": {},
   "source": [
    "*A data scientist is a person who should be able to leverage existing data sources, and create new ones as needed in order to extract meaningful information and actionable insights. These insights can be used to drive business decisions and changes intended to achieve business goals.* ~Alex Castrounis"
   ]
  },
  {
   "cell_type": "markdown",
   "metadata": {},
   "source": [
    "---"
   ]
  },
  {
   "cell_type": "markdown",
   "metadata": {},
   "source": [
    "![DS Venn Diagram](http://www.innoarchitech.com/assets/images/what-data-scientist/data-science-venn-stephan-kolassa.png \"Author: Stephan Kolassa\")"
   ]
  },
  {
   "cell_type": "markdown",
   "metadata": {},
   "source": [
    "You see the perfect Data Scientist is someone who is equally strong in Communication, Statistics, Programming, and Business"
   ]
  },
  {
   "cell_type": "markdown",
   "metadata": {},
   "source": [
    "---"
   ]
  },
  {
   "cell_type": "markdown",
   "metadata": {},
   "source": [
    "### Common Tasks of a Data Scientist"
   ]
  },
  {
   "cell_type": "markdown",
   "metadata": {},
   "source": [
    "- Prediction (predict a value based on inputs)\n",
    "- Classification (e.g., spam vs ham)\n",
    "- Recommendations (e.g., Spotify or Netflix recommendations)\n",
    "- Pattern detection and grouping (e.g., classification without known classes)\n",
    "- Anomaly detection (e.g., fraud detection)\n",
    "- Recognition (image, text, audio, video, facial, …)\n",
    "- Actionable insights (via dashboards, reports, visualizations, …)\n",
    "- Automated processes and decision-making (e.g., credit card approval)\n",
    "- Scoring and ranking (e.g., FICO score)\n",
    "- Segmentation (e.g., demographic-based marketing)\n",
    "- Optimization (e.g., risk management)\n",
    "- Forecasts (e.g., sales and revenue)\n",
    "- Mimic human interactions (e.g., Artificial Intelligence)"
   ]
  },
  {
   "cell_type": "markdown",
   "metadata": {},
   "source": [
    "---"
   ]
  },
  {
   "cell_type": "markdown",
   "metadata": {},
   "source": [
    "# Data Science Ecosystem"
   ]
  },
  {
   "cell_type": "markdown",
   "metadata": {},
   "source": [
    "### Workflow Packages"
   ]
  },
  {
   "cell_type": "markdown",
   "metadata": {},
   "source": [
    "**Numpy** and **Scipy**"
   ]
  },
  {
   "cell_type": "markdown",
   "metadata": {},
   "source": [
    "Both NumPy and SciPy are open-source add-on modules to Python that provide common mathematical and numerical routines that are crucial for Data Scientists. \n",
    "\n",
    "The NumPy (Numeric Python) package provides basic routines for manipulating large arrays and matrices of numeric data.\n",
    "\n",
    "The SciPy (Scientific Python) package extends the functionality of NumPy with a substantial collection of useful algorithms, like minimization, Fourier transformation, regression, and other applied mathematical techniques. "
   ]
  },
  {
   "cell_type": "code",
   "execution_count": 19,
   "metadata": {},
   "outputs": [],
   "source": [
    "import numpy as np\n",
    "\n",
    "count_by_five = np.arange( 0, 50, 5 ) #creates an array from 0 - 45 with a step of 5"
   ]
  },
  {
   "cell_type": "code",
   "execution_count": 20,
   "metadata": {},
   "outputs": [
    {
     "name": "stdout",
     "output_type": "stream",
     "text": [
      "[ 0  5 10 15 20 25 30 35 40 45]\n"
     ]
    }
   ],
   "source": [
    "print(count_by_five)"
   ]
  },
  {
   "cell_type": "code",
   "execution_count": 21,
   "metadata": {},
   "outputs": [
    {
     "data": {
      "text/plain": [
       "array([[ 0,  5],\n",
       "       [10, 15],\n",
       "       [20, 25],\n",
       "       [30, 35],\n",
       "       [40, 45]])"
      ]
     },
     "execution_count": 21,
     "metadata": {},
     "output_type": "execute_result"
    }
   ],
   "source": [
    "count_by_five.reshape(5,2)"
   ]
  },
  {
   "cell_type": "markdown",
   "metadata": {},
   "source": [
    "---"
   ]
  },
  {
   "cell_type": "markdown",
   "metadata": {},
   "source": [
    "**Pandas**"
   ]
  },
  {
   "cell_type": "markdown",
   "metadata": {},
   "source": [
    "Data preparation is a huge part of the data science process! Pandas provides a data framework that makes it easy to work with data. Most often Pandas is utilized to view data in a tabular format, clean data, and/or segment data as desired."
   ]
  },
  {
   "cell_type": "code",
   "execution_count": 8,
   "metadata": {},
   "outputs": [],
   "source": [
    "import pandas as pd\n",
    "import numpy as np\n",
    "\n",
    "videoGames = pd.Series([\"Street Fighter\",\"Super Metroid\",\"Super Mario\",\"Destiny 2\"])\n",
    "bestGame = pd.DataFrame(np.random.randn(4,4), index=videoGames, columns=list('ABCD'))"
   ]
  },
  {
   "cell_type": "code",
   "execution_count": 9,
   "metadata": {},
   "outputs": [
    {
     "data": {
      "text/html": [
       "<div>\n",
       "<table border=\"1\" class=\"dataframe\">\n",
       "  <thead>\n",
       "    <tr style=\"text-align: right;\">\n",
       "      <th></th>\n",
       "      <th>A</th>\n",
       "      <th>B</th>\n",
       "      <th>C</th>\n",
       "      <th>D</th>\n",
       "    </tr>\n",
       "  </thead>\n",
       "  <tbody>\n",
       "    <tr>\n",
       "      <th>Street Fighter</th>\n",
       "      <td>0.464050</td>\n",
       "      <td>1.282601</td>\n",
       "      <td>-1.232214</td>\n",
       "      <td>-2.435758</td>\n",
       "    </tr>\n",
       "    <tr>\n",
       "      <th>Super Metroid</th>\n",
       "      <td>0.725303</td>\n",
       "      <td>-0.308049</td>\n",
       "      <td>-1.657175</td>\n",
       "      <td>0.461732</td>\n",
       "    </tr>\n",
       "    <tr>\n",
       "      <th>Super Mario</th>\n",
       "      <td>-0.466554</td>\n",
       "      <td>-0.799696</td>\n",
       "      <td>0.991727</td>\n",
       "      <td>0.164141</td>\n",
       "    </tr>\n",
       "    <tr>\n",
       "      <th>Destiny 2</th>\n",
       "      <td>-0.779754</td>\n",
       "      <td>-1.715417</td>\n",
       "      <td>1.301100</td>\n",
       "      <td>-0.235993</td>\n",
       "    </tr>\n",
       "  </tbody>\n",
       "</table>\n",
       "</div>"
      ],
      "text/plain": [
       "                       A         B         C         D\n",
       "Street Fighter  0.464050  1.282601 -1.232214 -2.435758\n",
       "Super Metroid   0.725303 -0.308049 -1.657175  0.461732\n",
       "Super Mario    -0.466554 -0.799696  0.991727  0.164141\n",
       "Destiny 2      -0.779754 -1.715417  1.301100 -0.235993"
      ]
     },
     "execution_count": 9,
     "metadata": {},
     "output_type": "execute_result"
    }
   ],
   "source": [
    "bestGame"
   ]
  },
  {
   "cell_type": "markdown",
   "metadata": {},
   "source": [
    "---"
   ]
  },
  {
   "cell_type": "markdown",
   "metadata": {},
   "source": [
    "**Matplotlib**"
   ]
  },
  {
   "cell_type": "markdown",
   "metadata": {},
   "source": [
    "Matplotlib is a common Python package for 2D-graphics. It provides both a very quick way to visualize data from Python and create quality figures in many formats. "
   ]
  },
  {
   "cell_type": "code",
   "execution_count": 23,
   "metadata": {},
   "outputs": [
    {
     "data": {
      "image/png": "[encoded data removed]",
      "text/plain": [
       "<matplotlib.figure.Figure at 0x106c4b160>"
      ]
     },
     "metadata": {},
     "output_type": "display_data"
    }
   ],
   "source": [
    "import matplotlib.pyplot as plt\n",
    "\n",
    "data = {'a': np.arange(50),\n",
    "        'c': np.random.randint(0, 50, 50),\n",
    "        'd': np.random.randn(50)}\n",
    "data['b'] = data['a'] + 10 * np.random.randn(50)\n",
    "data['d'] = np.abs(data['d']) * 100\n",
    "\n",
    "plt.scatter('a', 'b', c='c', s='d', data=data)\n",
    "plt.xlabel('entry a')\n",
    "plt.ylabel('entry b')\n",
    "plt.show()"
   ]
  },
  {
   "cell_type": "markdown",
   "metadata": {},
   "source": [
    "### Data Science Packages"
   ]
  },
  {
   "cell_type": "code",
   "execution_count": null,
   "metadata": {},
   "outputs": [],
   "source": []
  }
 ],
 "metadata": {
  "kernelspec": {
   "display_name": "Python 3",
   "language": "python",
   "name": "python3"
  },
  "language_info": {
   "codemirror_mode": {
    "name": "ipython",
    "version": 3
   },
   "file_extension": ".py",
   "mimetype": "text/x-python",
   "name": "python",
   "nbconvert_exporter": "python",
   "pygments_lexer": "ipython3",
   "version": "3.5.2"
  }
 },
 "nbformat": 4,
 "nbformat_minor": 2
}
